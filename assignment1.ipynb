{
 "cells": [
  {
   "cell_type": "code",
   "execution_count": 6,
   "metadata": {},
   "outputs": [],
   "source": [
    "import scipy.optimize as opt\n",
    "import numpy as np\n",
    "import matplotlib.pyplot as plt\n",
    "import math"
   ]
  },
  {
   "cell_type": "code",
   "execution_count": 29,
   "metadata": {},
   "outputs": [],
   "source": [
    "S1 = np.array([[1.0, 2, 3,], [3, 1, 2,], [2, 3, 1,]])\n",
    "S2 = np.array([[0, 2, 0,], [4, 2, 4,], [math.pi, math.log(math.pi), math.sqrt(2)]])"
   ]
  },
  {
   "cell_type": "markdown",
   "metadata": {},
   "source": [
    "```\n",
    "formulate the problem \n",
    "\n",
    "decision variables \n",
    "let a[i] represent the coefficient corresponding to x[i]\n",
    "let d represent some acceptable distance between a point and the hyperplane\n",
    "\n",
    "max u + v\n",
    "s.t.\n",
    "1*a[0] + 2*a[1] + 3*a[2] >= 1 - u\n",
    "3*a[0] + 1*a[1] + 2*a[2] >= 1 - u\n",
    "2*a[0] + 3*a[1] + 1*a[2] >= 1 - u \n",
    "2*a[1] <= - (1 - v)\n",
    "4*a[0] + 2*a[1] + 4*a[2] <= - (1 - v)\n",
    "pi*a[0] + log(pi)*a[1] + sqrt(2)*a[2] + d <= - (1 - v)\n"
   ]
  },
  {
   "cell_type": "code",
   "execution_count": null,
   "metadata": {},
   "outputs": [],
   "source": []
  }
 ],
 "metadata": {
  "kernelspec": {
   "display_name": "Python 3",
   "language": "python",
   "name": "python3"
  },
  "language_info": {
   "codemirror_mode": {
    "name": "ipython",
    "version": 3
   },
   "file_extension": ".py",
   "mimetype": "text/x-python",
   "name": "python",
   "nbconvert_exporter": "python",
   "pygments_lexer": "ipython3",
   "version": "3.6.6"
  }
 },
 "nbformat": 4,
 "nbformat_minor": 2
}
