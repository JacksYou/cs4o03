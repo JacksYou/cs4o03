{
 "cells": [
  {
   "cell_type": "code",
   "execution_count": 1,
   "metadata": {},
   "outputs": [],
   "source": [
    "import scipy.optimize as opt\n",
    "import numpy as np\n",
    "import matplotlib.pyplot as plt\n",
    "import math"
   ]
  },
  {
   "cell_type": "code",
   "execution_count": 2,
   "metadata": {},
   "outputs": [],
   "source": [
    "S1 = np.array([[1.0, 2, 3,], [3, 1, 2,], [2, 3, 1,]])\n",
    "S2 = np.array([[0, 2, 0,], [4, 2, 4,], [math.pi, math.log(math.pi), math.sqrt(2)]])"
   ]
  },
  {
   "cell_type": "markdown",
   "metadata": {},
   "source": [
    "```\n",
    "formulate the problem \n",
    "\n",
    "decision variables \n",
    "let a[i] represent the coefficient corresponding to x[i]\n",
    "let d represent some acceptable distance between a point and the hyperplane\n",
    "\n",
    "max 0\n",
    "s.t.\n",
    "- 1*a[0] - 2*a[1] - 3*a[2] + B <= -1 \n",
    "- 3*a[0] - 1*a[1] - 2*a[2] + B <= -1\n",
    "- 2*a[0] - 3*a[1] - 1*a[2] + B <= -1 \n",
    "           2*a[1]          - B <= -1\n",
    "  4*a[0] + 2*a[1] + 4*a[2] - B <= -1\n",
    " pi*a[0] + log(pi)*a[1] + sqrt(2)*a[2] - B <= -1\n",
    "\n",
    "```"
   ]
  },
  {
   "cell_type": "code",
   "execution_count": 15,
   "metadata": {},
   "outputs": [
    {
     "name": "stdout",
     "output_type": "stream",
     "text": [
      "Optimal value: 4.6023539857 \n",
      "X: nan\n"
     ]
    }
   ],
   "source": [
    "A_ub = np.array([\n",
    "[-1, -2, -3, 1],\n",
    "[-3, -1 ,-2, 1],\n",
    "[-2 ,-3 ,-1, 1],\n",
    "[0, 2, 0, -1],\n",
    "[4, 2, 4, -1],\n",
    "[math.pi, math.log(math.pi), math.sqrt(2), -1]])\n",
    "\n",
    "b_ub = np.array([-1, -1, -1, -1, -1, -1])\n",
    "\n",
    "c = np.array([0, 0, 0, 0])\n",
    "\n",
    "res = opt.linprog(c, A_ub=A_ub, b_ub=b_ub,\n",
    "bounds=(None, None))\n",
    "print('Optimal value:', res.fun, '\\nX:', res.x)"
   ]
  },
  {
   "cell_type": "code",
   "execution_count": 13,
   "metadata": {},
   "outputs": [
    {
     "name": "stdout",
     "output_type": "stream",
     "text": [
      "nan\n"
     ]
    }
   ],
   "source": []
  },
  {
   "cell_type": "code",
   "execution_count": null,
   "metadata": {},
   "outputs": [],
   "source": []
  }
 ],
 "metadata": {
  "kernelspec": {
   "display_name": "Python 3",
   "language": "python",
   "name": "python3"
  },
  "language_info": {
   "codemirror_mode": {
    "name": "ipython",
    "version": 3
   },
   "file_extension": ".py",
   "mimetype": "text/x-python",
   "name": "python",
   "nbconvert_exporter": "python",
   "pygments_lexer": "ipython3",
   "version": "3.6.6"
  }
 },
 "nbformat": 4,
 "nbformat_minor": 2
}
