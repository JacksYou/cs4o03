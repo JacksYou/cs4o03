{
 "cells": [
  {
   "cell_type": "code",
   "execution_count": 1,
   "metadata": {},
   "outputs": [],
   "source": [
    "import scipy.optimize as opt\n",
    "import numpy as np\n",
    "import matplotlib.pyplot as plt\n",
    "import math"
   ]
  },
  {
   "cell_type": "markdown",
   "metadata": {},
   "source": [
    "### Question 1\n",
    "\n",
    "we are trying to formulate a plane s.t. \n",
    "\n",
    "```\n",
    "Ax > B for all points in S1\n",
    "Ax < B for all points in S2 \n",
    "```\n",
    "(or vice versa)\n",
    "\n",
    "since strict inequalities are not allowed we reformulate the problem as\n",
    "\n",
    "```\n",
    "Ax >= B + 1\n",
    "Ax <= B - 1\n",
    "```\n",
    "\n",
    "after changing both inequalities to upper bounds with a constant RHS\n",
    "\n",
    "```\n",
    "Ax + B <= -1\n",
    "Ax - B <= -1\n",
    "```\n",
    "\n",
    "now we can formulate the problem \n",
    "\n",
    "decision variables - Let: \n",
    "```\n",
    "A[i] represent the coefficient corresponding to x[i]\n",
    "B represent the constant of the plane\n",
    "```\n",
    "therefore our LP becomes\n",
    "```\n",
    "max. 0\n",
    "\n",
    "subject to. \n",
    "\n",
    "- 1*A[0] - 2*A[1]       - 3*A[2]       + B <= -1 \n",
    "- 3*A[0] - 1*A[1]       - 2*A[2]       + B <= -1\n",
    "- 2*A[0] - 3*A[1]       - 1*A[2]       + B <= -1 \n",
    "           2*A[1]                      - B <= -1\n",
    "  4*A[0] + 2*A[1]       + 4*A[2]       - B <= -1\n",
    " pi*A[0] + log(pi)*A[1] + sqrt(2)*A[2] - B <= -1\n",
    "```\n",
    "\n",
    "We are *not* trying to find an optimal hyperplane seperating the two classes,\n",
    "we are simply trying to find *a* hyperplane which separates them."
   ]
  },
  {
   "cell_type": "code",
   "execution_count": 2,
   "metadata": {},
   "outputs": [
    {
     "name": "stdout",
     "output_type": "stream",
     "text": [
      "     fun: 4.602353985700042\n",
      " message: 'Optimization failed. Unable to find a feasible starting point.'\n",
      "     nit: 4\n",
      "  status: 2\n",
      " success: False\n",
      "       x: nan\n"
     ]
    }
   ],
   "source": [
    "# question 1\n",
    "\n",
    "A_ub = np.array([\n",
    "[-1, -2, -3, 1],\n",
    "[-3, -1 ,-2, 1],\n",
    "[-2 ,-3 ,-1, 1],\n",
    "[0, 2, 0, -1],\n",
    "[4, 2, 4, -1],\n",
    "[math.pi, math.log(math.pi), math.sqrt(2), -1]])\n",
    "\n",
    "b_ub = np.array([-1, -1, -1, -1, -1, -1])\n",
    "\n",
    "c = np.array([0, 0, 0, 0])\n",
    "\n",
    "res = opt.linprog(c, A_ub=A_ub, b_ub=b_ub,\n",
    "bounds=(0, None))\n",
    "print(res)"
   ]
  },
  {
   "cell_type": "markdown",
   "metadata": {},
   "source": [
    "### Question 2\n",
    "\n",
    "Decision variables - Let\n",
    "\n",
    "```\n",
    "x[0] represent the number of tables we sell\n",
    "x[1] represent the number of desks we sell\n",
    "x[2] represent the number of chairs we sell\n",
    "```\n",
    "\n",
    "We formulate the LP as:\n",
    "```\n",
    "max. 100*x[0] + 50*x[1] + 10*x[2]\n",
    "\n",
    "subject to.\n",
    "\n",
    "25*[0] + 15*x[1] + 10*x[2] <= 4000\n",
    "50*[0] + 30*x[1] + 10*x[2] <= 5000\n",
    "90*[0] + 50*x[1] + 25*x[2] <= 6000\n",
    "4*x[0] + x[1] <= x[2]\n",
    "x[0], x[1], x[2] >= 0\n",
    "```"
   ]
  },
  {
   "cell_type": "code",
   "execution_count": 3,
   "metadata": {},
   "outputs": [
    {
     "name": "stdout",
     "output_type": "stream",
     "text": [
      "     fun: -4800.0\n",
      " message: 'Optimization terminated successfully.'\n",
      "     nit: 3\n",
      "   slack: array([2000., 1800.,    0.,    0.])\n",
      "  status: 0\n",
      " success: True\n",
      "       x: array([ 0., 80., 80.])\n"
     ]
    }
   ],
   "source": [
    "# question 2 pt. 2\n",
    "\n",
    "A_ub = np.array([\n",
    "[25, 15, 10],\n",
    "[50, 30 ,10],\n",
    "[90 ,50 ,25],\n",
    "[4, 1, -1]])\n",
    "\n",
    "b_ub = np.array([4000, 5000, 6000, 0])\n",
    "\n",
    "c = np.array([100, 50, 10])\n",
    "\n",
    "res = opt.linprog(-c, A_ub=A_ub, b_ub=b_ub, # default is a min problem. max f() = -min f(-x)\n",
    "bounds=(0, None))\n",
    "print(res)"
   ]
  },
  {
   "cell_type": "markdown",
   "metadata": {},
   "source": [
    "The maximum revenue is $4800. The optimal product mix is 80 desks and 80 chairs."
   ]
  },
  {
   "cell_type": "markdown",
   "metadata": {},
   "source": [
    "### Question 3\n",
    "\n",
    "Decision variables - Let \n",
    "\n",
    "```\n",
    "x[i] be the number of trees we sell in week i\n",
    "\n",
    "e[3] be the number of extra trees we have to buy in week 3\n",
    "e[4] be the number of extra trees we have to buy in week 4\n",
    "```\n",
    "\n",
    "Other variables - Let \n",
    "\n",
    "```\n",
    "s[1] be the number of trees left over in week 1\n",
    "s[2] be the number of trees left over in week 2\n",
    "s[3] be the number of trees left over in week 3\n",
    "* there should be no trees left over in week 4\n",
    "\n",
    "\n",
    "```\n",
    "We formulate the LP as:\n",
    "\n",
    "```\n",
    "min. 100*(x[1] + x[2]) + 150*(x[3] + x[4]) + 3*(s[1] + s[2] + s[3]) + 200*(e[3] + e[4])\n",
    "\n",
    "subject to.\n",
    "\n",
    "s[1] = x[1] - 70\n",
    "s[2] = s[1] + x[2] - 80\n",
    "s[3] = s[2] + x[2] + e[3] - 90\n",
    "s[3] + x[4] + e[4] - 100 >= 0\n",
    "x[1], x[2], x[3], x[4] <= 90\n",
    "x[1], x[2], x[3], x[4], s[1], s[2], s[3], e[3], e[4] >= 0\n",
    "e[3], e[4] <= 20\n",
    "```"
   ]
  },
  {
   "cell_type": "code",
   "execution_count": null,
   "metadata": {},
   "outputs": [],
   "source": []
  }
 ],
 "metadata": {
  "kernelspec": {
   "display_name": "Python 3",
   "language": "python",
   "name": "python3"
  },
  "language_info": {
   "codemirror_mode": {
    "name": "ipython",
    "version": 3
   },
   "file_extension": ".py",
   "mimetype": "text/x-python",
   "name": "python",
   "nbconvert_exporter": "python",
   "pygments_lexer": "ipython3",
   "version": "3.6.6"
  }
 },
 "nbformat": 4,
 "nbformat_minor": 2
}
