{
 "cells": [
  {
   "cell_type": "code",
   "execution_count": 1,
   "metadata": {},
   "outputs": [],
   "source": [
    "import scipy.optimize as opt\n",
    "import numpy as np\n",
    "import matplotlib.pyplot as plt\n",
    "import math"
   ]
  },
  {
   "cell_type": "markdown",
   "metadata": {},
   "source": [
    "# Question 1\n",
    "\n",
    "We are trying to formulate a plane s.t. \n",
    "```\n",
    "Ax >= B for all points in S1\n",
    "Ax <= B for all points in S2 \n",
    "```\n",
    "(or vice versa)\n",
    "\n",
    "Since strict inequalities are not allowed and `A != (0, 0, 0)`, that is to say simply formulating \n",
    "```\n",
    "min. 0 \n",
    "\n",
    "subject to.\n",
    "\n",
    "Ax - B >= 0\n",
    "Ax - B <= 0\n",
    "```\n",
    "Running the above solution through an optimizer will allow for `A = (0, 0, 0)` and therefore, we reach an inadequate solution. We reformulate the problem as\n",
    "```\n",
    "Ax >= B + 1\n",
    "Ax <= B - 1\n",
    "```\n",
    "This, in the context of linear classification, will determine if the set of points are *linearly separable*. After changing both inequalities to upper bounds with a constant RHS\n",
    "```\n",
    "Ax + B <= -1\n",
    "Ax - B <= -1\n",
    "```\n",
    "Now we can formulate the problem \n",
    "\n",
    "Decision variables - Let: \n",
    "```\n",
    "A[i] represent the coefficient corresponding to x[i]\n",
    "B    represent the constant of the plane\n",
    "```\n",
    "Therefore our LP becomes\n",
    "```\n",
    "min. 0\n",
    "\n",
    "subject to. \n",
    "\n",
    "- 1*A[0] - 2*A[1]       - 3*A[2]       + B <= -1 \n",
    "- 3*A[0] - 1*A[1]       - 2*A[2]       + B <= -1\n",
    "- 2*A[0] - 3*A[1]       - 1*A[2]       + B <= -1 \n",
    "           2*A[1]                      - B <= -1\n",
    "  4*A[0] + 2*A[1]       + 4*A[2]       - B <= -1\n",
    " pi*A[0] + log(pi)*A[1] + sqrt(2)*A[2] - B <= -1\n",
    "```\n",
    "\n",
    "We are *not* trying to find an optimal hyperplane separating the two classes,\n",
    "we are simply trying to find *a* hyperplane which separates them."
   ]
  },
  {
   "cell_type": "code",
   "execution_count": 2,
   "metadata": {},
   "outputs": [
    {
     "name": "stdout",
     "output_type": "stream",
     "text": [
      "     fun: 4.602353985700042\n",
      " message: 'Optimization failed. Unable to find a feasible starting point.'\n",
      "     nit: 6\n",
      "  status: 2\n",
      " success: False\n",
      "       x: nan\n"
     ]
    }
   ],
   "source": [
    "# question 1 pt. 1\n",
    "\n",
    "A_ub = np.array([\n",
    "[-1, -2, -3, 1],\n",
    "[-3, -1 ,-2, 1],\n",
    "[-2 ,-3 ,-1, 1],\n",
    "[0, 2, 0, -1],\n",
    "[4, 2, 4, -1],\n",
    "[math.pi, math.log(math.pi), math.sqrt(2), -1]])\n",
    "\n",
    "b_ub = np.array([-1, -1, -1, -1, -1, -1])\n",
    "\n",
    "c = np.array([0, 0, 0, 0])\n",
    "\n",
    "res = opt.linprog(c, A_ub=A_ub, b_ub=b_ub,\n",
    "bounds=((None, None), (None, None), (None, None), (0, None)))\n",
    "print(res)"
   ]
  },
  {
   "cell_type": "markdown",
   "metadata": {},
   "source": [
    "We see from the above optimization run, the problem we have formulated is infeasible as the optimizer cannot find a starting point, and therefore, there exists _no_ plane which can separate the points and they are not *linearly separable*. To show that no perfect plane exists with a terminating optimization problem, we will reformulate the optimization problem into a linear classification problem such that\n",
    "\n",
    "    Ax - B >= 1 - u\n",
    "    Ax - B <= - (1 - v)\n",
    "    \n",
    "Where `u` and `v` represent a margin from a optimal hyperplane and the points. We then formulate the LP with:\n",
    "\n",
    "Decision variables - Let\n",
    "\n",
    "    A[i] represent the coefficient corresponding to x[i]\n",
    "    B    represent the constant of the plane\n",
    "    u[i] represent the distance between the plane + 1 and each point in S1\n",
    "    v[i] represent the distance between the plane - 1 and each point in S2\n",
    "\n",
    "    min. u[1] + u[2] + u[3] + v[1] + v[2] + v[3]\n",
    "        \n",
    "    subject to. \n",
    "    \n",
    "    - 1*A[0] - 2*A[1]       - 3*A[2]       + B - u[1] <= -1 \n",
    "    - 3*A[0] - 1*A[1]       - 2*A[2]       + B - u[2] <= -1\n",
    "    - 2*A[0] - 3*A[1]       - 1*A[2]       + B - u[3] <= -1 \n",
    "               2*A[1]                      - B - v[1] <= -1\n",
    "      4*A[0] + 2*A[1]       + 4*A[2]       - B - v[2] <= -1\n",
    "     pi*A[0] + log(pi)*A[1] + sqrt(2)*A[2] - B - v[3] <= -1\n",
    "     u[i], v[i] >= 0\n",
    "\n",
    "We are now trying the minimize the number of points which are on the wrong side of the hyperplane (or in other words, misclassified). If the optimal objective value is `0`, then we have found a perfect separating hyperplane. Otherwise the optimal objective value after optimization is the best we can do in terms of classification. Therefore, there is no perfect separating hyperplane *and* the parameters returned is *best* plane which separates as many points correctly as possible."
   ]
  },
  {
   "cell_type": "code",
   "execution_count": 3,
   "metadata": {},
   "outputs": [
    {
     "name": "stdout",
     "output_type": "stream",
     "text": [
      "     fun: 4.602353985700042\n",
      " message: 'Optimization terminated successfully.'\n",
      "     nit: 11\n",
      "   slack: array([0., 0., 0., 0., 0., 0.])\n",
      "  status: 0\n",
      " success: True\n",
      "       x: array([0.04823451, 1.25294248, 0.6505885 , 3.50588496, 0.        ,\n",
      "       1.80706196, 0.        , 0.        , 2.79529203, 0.        ])\n"
     ]
    }
   ],
   "source": [
    "# question 2 pt. 2\n",
    "\n",
    "A_ub = np.array([\n",
    "[-1, -2, -3, 1, -1, 0, 0, 0, 0, 0],\n",
    "[-3, -1, -2, 1, 0, -1, 0, 0, 0, 0],\n",
    "[-2, -3, -1, 1, 0, 0, -1, 0, 0, 0],\n",
    "[0, 2, 0, -1, 0, 0, 0, -1, 0, 0],\n",
    "[4, 2, 4, -1, 0, 0, 0, 0, -1, 0],\n",
    "[math.pi, math.log(math.pi), math.sqrt(2), -1, 0, 0, 0, 0, 0, -1]])\n",
    "\n",
    "\n",
    "b_ub = np.array([-1, -1, -1, -1, -1, -1])\n",
    "\n",
    "c = np.array([0, 0, 0, 0, 1, 1, 1, 1 ,1 ,1])\n",
    "\n",
    "res = opt.linprog(c, A_ub=A_ub, b_ub=b_ub,\n",
    "bounds=((None, None), (None, None), (None, None), (0, None), (0, None), \n",
    "        (0, None), (0, None), (0, None), (0, None), (0, None)))\n",
    "print(res)"
   ]
  },
  {
   "cell_type": "markdown",
   "metadata": {},
   "source": [
    "The optimal function value is ~`4.6`, therefore there exists no perfect separating hyperplane. The difference between the current LP and the previous LP is that the previous LP *required* a perfect separating hyperplane, whereas the current LP requires the most *optimal* hyperplane. If the problem could be formulated as a quadratic program, we could add a hyperparameter which regulates the margins.\n",
    "\n",
    "Sources consulted:\n",
    "\n",
    "https://en.wikipedia.org/wiki/Support_vector_machine\n",
    "https://yalmip.github.io/tutorial/linearprogramming/\n"
   ]
  },
  {
   "cell_type": "markdown",
   "metadata": {},
   "source": [
    "# Question 2\n",
    "\n",
    "Decision variables - Let\n",
    "\n",
    "```\n",
    "x[0] represent the number of tables we sell\n",
    "x[1] represent the number of desks we sell\n",
    "x[2] represent the number of chairs we sell\n",
    "```\n",
    "\n",
    "We formulate the LP as:\n",
    "```\n",
    "max. 100*x[0] + 50*x[1] + 10*x[2]\n",
    "\n",
    "subject to.\n",
    "\n",
    "25*[0] + 15*x[1] + 10*x[2] <= 4000\n",
    "50*[0] + 30*x[1] + 10*x[2] <= 5000\n",
    "90*[0] + 50*x[1] + 25*x[2] <= 6000\n",
    "4*x[0] + x[1] <= x[2] # 4x chairs as tables + 1x chairs as desks <= total number of chairs we sell\n",
    "x[0], x[1], x[2] >= 0\n",
    "```"
   ]
  },
  {
   "cell_type": "code",
   "execution_count": 4,
   "metadata": {},
   "outputs": [
    {
     "name": "stdout",
     "output_type": "stream",
     "text": [
      "     fun: -4800.0\n",
      " message: 'Optimization terminated successfully.'\n",
      "     nit: 3\n",
      "   slack: array([2000., 1800.,    0.,    0.])\n",
      "  status: 0\n",
      " success: True\n",
      "       x: array([ 0., 80., 80.])\n"
     ]
    }
   ],
   "source": [
    "# question 2 pt. 2\n",
    "\n",
    "A_ub = np.array([\n",
    "[25, 15, 10],\n",
    "[50, 30 ,10],\n",
    "[90 ,50 ,25],\n",
    "[4, 1, -1]])\n",
    "\n",
    "b_ub = np.array([4000, 5000, 6000, 0])\n",
    "\n",
    "c = np.array([100, 50, 10])\n",
    "\n",
    "# default is a min problem. max f(x) = -min f(-x)\n",
    "res = opt.linprog(-c, A_ub=A_ub, b_ub=b_ub, \n",
    "bounds=(0, None))\n",
    "print(res)"
   ]
  },
  {
   "cell_type": "markdown",
   "metadata": {},
   "source": [
    "The maximum revenue is $4800. The optimal product mix is 80 desks and 80 chairs."
   ]
  },
  {
   "cell_type": "markdown",
   "metadata": {},
   "source": [
    "# Question 3\n",
    "\n",
    "Decision variables - Let \n",
    "\n",
    "```\n",
    "x[i] be the number of trees we can buy normally in week i\n",
    "\n",
    "z[3] be the number of extra trees we can buy in week 3\n",
    "z[4] be the number of extra trees we can buy in week 4\n",
    "```\n",
    "\n",
    "Other variables - Let \n",
    "\n",
    "```\n",
    "y[1] be the number of trees left over in week 1\n",
    "y[2] be the number of trees left over in week 2\n",
    "y[3] be the number of trees left over in week 3\n",
    "* there should be no trees left over in week 4\n",
    "\n",
    "\n",
    "```\n",
    "We are trying to minimize the cost in order to meet the demand of trees every week, therefore\n",
    "We formulate the LP as:\n",
    "\n",
    "```\n",
    "min. 100*(x[1] + x[2]) + 150*(x[3] + x[4]) + 3*(y[1] + y[2] + y[3]) + 200*(z[3] + z[4])\n",
    "\n",
    "subject to.\n",
    "\n",
    "x[1] - 70                == y[1]\n",
    "x[2] + y[1] - 80         == y[2]\n",
    "x[3] + y[2] + z[3] - 90  == y[3]\n",
    "x[4] + y[3] + z[4] - 100 == 0   # no leftover trees after 4th week\n",
    "x[1], x[2], x[3], x[4]   <= 90\n",
    "z[3], z[4]               <= 20\n",
    "x[1], x[2], x[3], x[4]   >= 0  \n",
    "y[1], y[2], y[3]         >= 0\n",
    "z[3], z[4]               >= 0\n",
    "```"
   ]
  }
 ],
 "metadata": {
  "kernelspec": {
   "display_name": "Python 3",
   "language": "python",
   "name": "python3"
  },
  "language_info": {
   "codemirror_mode": {
    "name": "ipython",
    "version": 3
   },
   "file_extension": ".py",
   "mimetype": "text/x-python",
   "name": "python",
   "nbconvert_exporter": "python",
   "pygments_lexer": "ipython3",
   "version": "3.6.6"
  }
 },
 "nbformat": 4,
 "nbformat_minor": 2
}
