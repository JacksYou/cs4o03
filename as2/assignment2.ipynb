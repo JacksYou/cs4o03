{
 "cells": [
  {
   "cell_type": "code",
   "execution_count": 5,
   "metadata": {},
   "outputs": [],
   "source": [
    "from pulp import *\n",
    "import scipy.optimize as opt\n",
    "import numpy as np\n",
    "import math"
   ]
  },
  {
   "cell_type": "markdown",
   "metadata": {},
   "source": [
    "# Question 1\n",
    "\n",
    "*1.1* `c <= 0; a <= 0; b <= 0; all others free` \n",
    "\n",
    "*1.2* `c > 0; d >= max(0, 5e/6); e >= 0; all others free`\n",
    "\n",
    "*1.3* `c > 0; e <= 0; d <= 0; all others free`"
   ]
  },
  {
   "cell_type": "markdown",
   "metadata": {},
   "source": [
    "# Question 2 \n",
    "\n",
    "## 2.1\n",
    "\n",
    "```\n",
    "max z = x[1] + 2*x[2] + 3*x[3]\n",
    "s.t.\n",
    "  x[1] +   x[2] +   x[3] + s[1] = 16\n",
    "3*x[1] + 2*x[2] + 2*x[3]        = 26\n",
    "  x[1] +            x[3] - s[2] = 10\n",
    "x[1], x[2], x[3], s[1], s[2]   >= 0\n",
    "\n",
    "```\n",
    "\n",
    "## 2.2\n",
    "\n",
    "```\n",
    "min. z = y[1] + y[2] \n",
    "s.t. \n",
    "  x[1] +   x[2] +   x[3] + s[1]        = 16\n",
    "3*x[1] + 2*x[2] + 2*x[3]        + y[1] = 26\n",
    "  x[1] +            x[3] - s[2] + y[2] = 10\n",
    "x[1], x[2], x[3], s[1], s[2], y[1], y[2] >= 0\n",
    "\n",
    "```\n",
    "\n",
    "## 2.3 \n",
    "\n",
    "Form initial tableau with constraints added\n",
    "```\n",
    "   -z  x1  x2  x3  s1  s2  y1  y2   RHS\n",
    " I. 1   5   3   4   1  -1   0   0    52\n",
    "r2  0   1   1   1   1   0   0   0    16\n",
    "r3  0   3   2   2   0   0   1   0    26\n",
    "r4  0   1   0   1   0  -1   0   1    10 \n",
    "```\n",
    "Enter x3; exit y2;\n",
    "```\n",
    "   -z  x1  x2  x3  s1  s2  y1  y2   RHS\n",
    "r1  1   1   3   0   1   3   0  -4    12 ; = r1  - 4*r4\n",
    "r2  0   0   1   0   1   1   0  -1     6 ; = r2  - r4\n",
    "r3  0   1   2   0   0   2   1  -2     6 ; = r3  - 2*r4\n",
    "r4  0   1   0   1   0  -1   0   1    10 \n",
    "```\n",
    "Enter x1; exit y1;\n",
    "```\n",
    "   -z  x1  x2  x3  s1  s2  y1  y2   RHS\n",
    "r1  1   0   1   0   1   1  -1  -2     6 ; r1 = r1 - r3 \n",
    "r2  0   0   1   0   1   1   0  -1     6  \n",
    "r3  0   1   2   0   0   2   1  -2     6 \n",
    "r4  0   0  -2   1   0  -3  -1   3     4 ; r4 = r4 - r3\n",
    "```\n",
    "Enter x2; exit x1 \n",
    "```\n",
    "   -z   x1   x2   x3   s1   s2   y1   y2    RHS\n",
    "r1  1 -0.5    0    0    1    0 -1.5   -1      3 ; r1 = r1 - 0.5*r3\n",
    "r2  0 -0.5    0    0    1    0 -0.5    0      3 ; r2 = r2 - 0.5*r3 \n",
    "r3  0  0.5    1    0    0    1  0.5   -1      3 ; r3 = 0.5*r3\n",
    "r4  0    1    0    1    0   -1    0    1     10 ; r4 = r4 + r3 \n",
    "```\n",
    "Pivot s1 (r2)\n",
    "```\n",
    "   -z   x1   x2   x3   s1   s2   y1   y2    RHS\n",
    "r1  1    0    0    0    0    0   -1   -1      0 ; r1 = r1 - r2\n",
    "r2  0 -0.5    0    0    1    0 -0.5    0      3 ; \n",
    "r3  0  0.5    1    0    0    1  0.5   -1      3 ; \n",
    "r4  0    1    0    1    0   -1    0    1     10 ; \n",
    "```\n",
    "Optimal solution reached, RHS = 0, feasible basis achieved.\n",
    "\n",
    "## 2.3 \n",
    "\n",
    "\n"
   ]
  },
  {
   "cell_type": "code",
   "execution_count": 19,
   "metadata": {},
   "outputs": [
    {
     "name": "stdout",
     "output_type": "stream",
     "text": [
      "     fun: 18.0\n",
      " message: 'Optimization terminated successfully.'\n",
      "     nit: 3\n",
      "   slack: array([], dtype=float64)\n",
      "  status: 0\n",
      " success: True\n",
      "       x: array([6., 0., 4., 6., 0.])\n"
     ]
    }
   ],
   "source": [
    "A_eq = np.array([\n",
    "[1, 1, 1, 1,  0],\n",
    "[3, 2, 2, 0,  0],\n",
    "[1, 0, 1, 0, -1]])\n",
    "\n",
    "b_eq = np.array([16, 26, 10])\n",
    "\n",
    "c = np.array([1, 2, 3, 0, 0])\n",
    "\n",
    "# default is a min problem. max f(x) = -min f(-x)\n",
    "res = opt.linprog(c, A_eq=A_eq, b_eq=b_eq,\n",
    "bounds=(0, None))\n",
    "print(res)"
   ]
  },
  {
   "cell_type": "markdown",
   "metadata": {},
   "source": [
    "# Question 3\n",
    "```\n",
    "v w = 0  1  2  3  4  5  6  7  8  9 10 11 \n",
    "0     0  0  0  0  0  0  0  0  0  0  0  0\n",
    "1     0  0  0  0  0  4  4  4  4  4  4  4\n",
    "2     0  0  0  0  0  4  9  9  9  9  9 13\n",
    "3     0  0  0  0  7  7  9  9  9 11 16 16\n",
    "4     0  0  0  6  7  7  9 13 13 15 16 16\n",
    "5     0  0  0  6  7  7  9 13 13 15 19 20 \n",
    "```"
   ]
  },
  {
   "cell_type": "code",
   "execution_count": 25,
   "metadata": {},
   "outputs": [
    {
     "name": "stdout",
     "output_type": "stream",
     "text": [
      "20.0\n"
     ]
    }
   ],
   "source": [
    "prob = LpProblem(\"Knapsack Without Replacement\",LpMaximize)\n",
    "x1=LpVariable(\"x1\", 0, 1, LpInteger)\n",
    "x2=LpVariable(\"x2\", 0, 1, LpInteger)\n",
    "x3=LpVariable(\"x3\", 0, 1, LpInteger)\n",
    "x4=LpVariable(\"x4\", 0, 1, LpInteger)\n",
    "x5=LpVariable(\"x5\", 0, 1, LpInteger)\n",
    "\n",
    "prob += 4*x1 + 9*x2 + 7*x3 + 4*x4 + 13*x5\n",
    "prob += 5*x1 + 6*x2 + 4*x3 + 3*x4 + 7*x5 <= 11 \n",
    "\n",
    "prob.solve()\n",
    "print(value(prob.objective))"
   ]
  },
  {
   "cell_type": "markdown",
   "metadata": {},
   "source": [
    "\n",
    "```\n",
    "v w = 0  1  2  3  4  5  6  7  8  9 10 11 \n",
    "0     0  0  0  0  0  0  0  0  0  0  0  0\n",
    "1     0  0  0  0  0  4  4  4  4  4  8  8\n",
    "2     0  0  0  0  0  4  9  9  9  9 13 13\n",
    "3     0  0  0  0  7  7  9  9 14 14 14 14\n",
    "4     0  0  0  4  7  7  9 11 14 14 15 15\n",
    "5     0  0  0  4  7  7  9 13 14 14 15 \n",
    "```"
   ]
  },
  {
   "cell_type": "code",
   "execution_count": null,
   "metadata": {},
   "outputs": [],
   "source": []
  }
 ],
 "metadata": {
  "kernelspec": {
   "display_name": "Python 3",
   "language": "python",
   "name": "python3"
  },
  "language_info": {
   "codemirror_mode": {
    "name": "ipython",
    "version": 3
   },
   "file_extension": ".py",
   "mimetype": "text/x-python",
   "name": "python",
   "nbconvert_exporter": "python",
   "pygments_lexer": "ipython3",
   "version": "3.6.6"
  }
 },
 "nbformat": 4,
 "nbformat_minor": 2
}
