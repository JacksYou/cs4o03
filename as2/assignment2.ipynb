{
 "cells": [
  {
   "cell_type": "code",
   "execution_count": 1,
   "metadata": {},
   "outputs": [],
   "source": [
    "from pulp import *"
   ]
  },
  {
   "cell_type": "markdown",
   "metadata": {},
   "source": [
    "# Question 1\n",
    "\n",
    "*1.1* `c <= 0; a <= 0; b <= 0; all others free` \n",
    "\n",
    "A tableau is optimal if and only if all coefficients of the variables are nonpositive.\n",
    "\n",
    "*1.2* `c > 0; d >= max(0, 5e/6); all others free`\n",
    "\n",
    "The selection of optimal exiting variables is based on the min ratio rule. By this rule, this \n",
    "means to exit on `x3` the constraint `5 / d >= 6 /e` must be sastified. We equalize the \n",
    "constraint by transforming it to `30/6d >= 30/5e` therefore it can be reduced to `6d >= 5e`\n",
    "and simplified to `d >= 5e/6`. We add a `0` constraint in the event `e` is negative.\n",
    "\n",
    "*1.3* `c > 0; e <= 0; d <= 0; all others free`\n",
    "\n",
    "A problem is unbounded if all coefficients of the entering variable column \n",
    "are nonpositive. We select entering variables which are positive."
   ]
  },
  {
   "cell_type": "markdown",
   "metadata": {},
   "source": [
    "# Question 2 \n",
    "\n",
    "## 2.1\n",
    "\n",
    "```\n",
    "max z = x[1] + 2*x[2] + 3*x[3]\n",
    "s.t.\n",
    "  x[1] +   x[2] +   x[3] + s[1] = 16\n",
    "3*x[1] + 2*x[2] + 2*x[3]        = 26\n",
    "  x[1] +            x[3] - s[2] = 10\n",
    "x[1], x[2], x[3], s[1], s[2]   >= 0\n",
    "\n",
    "```\n",
    "\n",
    "## 2.2\n",
    "\n",
    "```\n",
    "min. z = y[1] + y[2] \n",
    "s.t. \n",
    "  x[1] +   x[2] +   x[3] + s[1]        = 16\n",
    "3*x[1] + 2*x[2] + 2*x[3]        + y[1] = 26\n",
    "  x[1] +            x[3] - s[2] + y[2] = 10\n",
    "x[1], x[2], x[3], s[1], s[2], y[1], y[2] >= 0\n",
    "\n",
    "```\n",
    "\n",
    "## 2.3 \n",
    "\n",
    "Form initial tableau in canonical form\n",
    "```\n",
    "   -z  x1  x2  x3  s1  s2  y1  y2   RHS\n",
    "r1  1   5   3   4   1  -1   0   0    52\n",
    "r2  0   1   1   1   1   0   0   0    16\n",
    "r3  0   3   2   2   0   0   1   0    26\n",
    "r4  0   1   0   1   0  -1   0   1    10 \n",
    "```\n",
    "**enter _x3_; exit _y2_;**\n",
    "```\n",
    "   -z  x1  x2  x3  s1  s2  y1  y2   RHS\n",
    "r1  1   1   3   0   1   3   0  -4    12 ; = r1  - 4*r4\n",
    "r2  0   0   1   0   1   1   0  -1     6 ; = r2  - r4\n",
    "r3  0   1   2   0   0   2   1  -2     6 ; = r3  - 2*r4\n",
    "r4  0   1   0   1   0  -1   0   1    10 \n",
    "```\n",
    "**enter _x1_; exit _y1_;**\n",
    "```\n",
    "   -z  x1  x2  x3  s1  s2  y1  y2   RHS\n",
    "r1  1   0   1   0   1   1  -1  -2     6 ; r1 = r1 - r3 \n",
    "r2  0   0   1   0   1   1   0  -1     6  \n",
    "r3  0   1   2   0   0   2   1  -2     6 \n",
    "r4  0   0  -2   1   0  -3  -1   3     4 ; r4 = r4 - r3\n",
    "```\n",
    "**enter _x2_; exit _x1_**;\n",
    "```\n",
    "   -z   x1   x2   x3   s1   s2   y1   y2    RHS\n",
    "r1  1 -0.5    0    0    1    0 -1.5   -1      3 ; r1 = r1 - 0.5*r3\n",
    "r2  0 -0.5    0    0    1    0 -0.5    0      3 ; r2 = r2 - 0.5*r3 \n",
    "r3  0  0.5    1    0    0    1  0.5   -1      3 ; r3 = 0.5*r3\n",
    "r4  0    1    0    1    0   -1    0    1     10 ; r4 = r4 + r3 \n",
    "```\n",
    "**pivot _s1_**;\n",
    "```\n",
    "   -z   x1   x2   x3   s1   s2   y1   y2    RHS\n",
    "r1  1    0    0    0    0    0   -1   -1      0 ; r1 = r1 - r2\n",
    "r2  0 -0.5    0    0    1    0 -0.5    0      3 ; \n",
    "r3  0  0.5    1    0    0    1  0.5   -1      3 ; \n",
    "r4  0    1    0    1    0   -1    0    1     10 ; \n",
    "```\n",
    "Optimal solution reached, RHS = 0 for z-row, feasible basis achieved, proceed to phase 2.\n",
    "\n"
   ]
  },
  {
   "cell_type": "code",
   "execution_count": 2,
   "metadata": {},
   "outputs": [],
   "source": [
    "# verification of phase 1\n",
    "\n",
    "prob = LpProblem(\"Phase 1\",LpMinimize)\n",
    "x1=LpVariable(\"x1\", 0, None)\n",
    "x2=LpVariable(\"x2\", 0, None)\n",
    "x3=LpVariable(\"x3\", 0, None)\n",
    "s1=LpVariable(\"s1\", 0, None)\n",
    "s2=LpVariable(\"s2\", 0, None)\n",
    "y1=LpVariable(\"y1\", 0, None)\n",
    "y2=LpVariable(\"y2\", 0, None)\n",
    "\n",
    "prob += y1 + y2\n",
    "prob += x1   + x2   +   x3 + s1      == 16\n",
    "prob += 3*x1 + 2*x2 + 2*x3      + y1 == 26\n",
    "prob += x1   +          x3 - s2 + y2 == 10\n",
    "\n",
    "\n",
    "prob.solve()\n",
    "print(\"Optimal Value for Phase 1 Problem\")\n",
    "print(\"z = {}\".format(value(prob.objective)))"
   ]
  },
  {
   "cell_type": "markdown",
   "metadata": {},
   "source": [
    "## 2.4\n",
    "\n",
    "\n",
    "```\n",
    "   -z   x1   x2   x3   s1   s2    RHS\n",
    "r1  1    1    2    3    0    0      0 ;\n",
    "r2  0 -0.5    0    0    1    0      3 ; \n",
    "r3  0  0.5    1    0    0    1      3 ; \n",
    "r4  0    1    0    1    0   -1     10 ; \n",
    "```  \n",
    "**pivot _x2_;** \n",
    "\n",
    "```\n",
    "   -z   x1   x2   x3   s1   s2    RHS\n",
    "r1  1    0    0    3    0   -2     -6 ; r1 = r1 - 2*r3\n",
    "r2  0 -0.5    0    0    1    0      3 ; \n",
    "r3  0  0.5    1    0    0    1      3 ; \n",
    "r4  0    1    0    1    0   -1     10 ; \n",
    "```  \n",
    "**pivot _x3_;** \n",
    "```\n",
    "   -z   x1   x2   x3   s1   s2    RHS\n",
    "r1  1   -3    0    0    0    1    -36 ; r1 = r1 - 3*r4\n",
    "r2  0 -0.5    0    0    1    0      3 ; \n",
    "r3  0  0.5    1    0    0    1      3 ; \n",
    "r4  0    1    0    1    0   -1     10 ; \n",
    "```  \n",
    "**enter _s2_; exit _x2_;** \n",
    "```\n",
    "   -z   x1   x2   x3   s1   s2    RHS\n",
    "r1  1 -3.5   -1    0    0    0    -39 ; r1 = r1 - r3\n",
    "r2  0 -0.5    0    0    1    0      3 ; \n",
    "r3  0  0.5    1    0    0    1      3 ; \n",
    "r4  0  1.5    1    1    0    0     13 ; r4 = r4 + 3 \n",
    "```  \n",
    "Tableau is now optimal, the objective value is `39` and the optimal vector is `(0, 0, 13, 3, 3)`"
   ]
  },
  {
   "cell_type": "code",
   "execution_count": 9,
   "metadata": {},
   "outputs": [
    {
     "name": "stdout",
     "output_type": "stream",
     "text": [
      "Optimal value for phase 2 problem\n",
      "z = 39.0\n",
      "Optimal value for original problem\n",
      "z = 39.0\n",
      "Is phase 2 equal original? True\n"
     ]
    }
   ],
   "source": [
    "# verification for phase 2 \n",
    "\n",
    "prob = LpProblem(\"Phase 2\",LpMaximize)\n",
    "\n",
    "prob +=      x1   + 2*x2 + 3*x3  \n",
    "prob += -0.5*x1   + 0*x2 + 0*x3 + 1*s1 + 0*s2 == 3\n",
    "prob +=  0.5*x1   + 1*x2 + 0*x3 + 0*s1 + 1*s2 == 3\n",
    "prob +=      x1   + 0*x2 + 1*x3 + 0*s1 - 1*s2 == 10\n",
    "\n",
    "prob.solve()\n",
    "phase2val = value(prob.objective)\n",
    "\n",
    "prob = LpProblem(\"Original Problem\",LpMaximize)\n",
    "\n",
    "prob +=   x1 + 2*x2 + 3*x3  \n",
    "prob += 1*x1 + 1*x2 + 1*x3 <= 16\n",
    "prob += 3*x1 + 2*x2 + 2*x3 == 26\n",
    "prob += 1*x1 + 0*x2 + 1*x3 >= 10\n",
    "prob.solve()\n",
    "val = value(prob.objective)\n",
    "\n",
    "print(\"Optimal value for phase 2 problem\")\n",
    "print(\"z = {}\".format(phase2val))\n",
    "print(\"Optimal value for original problem\")\n",
    "print(\"z = {}\".format(val))\n",
    "print(\"Is phase 2 equal original? {}\".format(phase2val == val))"
   ]
  },
  {
   "cell_type": "markdown",
   "metadata": {},
   "source": [
    "# Question 3\n"
   ]
  },
  {
   "cell_type": "markdown",
   "metadata": {},
   "source": [
    "## 3.1 \n",
    "```\n",
    "v w = 0  1  2  3  4  5  6  7  8  9 10 11 \n",
    "0     0  0  0  0  0  0  0  0  0  0  0  0\n",
    "1     0  0  0  0  0  4  4  4  4  4  4  4\n",
    "2     0  0  0  0  0  4  9  9  9  9  9 13\n",
    "3     0  0  0  0  7  7  9  9  9 11 16 16\n",
    "4     0  0  0  6  7  7  9 13 13 15 16 16\n",
    "5     0  0  0  6  7  7  9 13 13 15 19 20 \n",
    "```\n",
    "\n",
    "The optimal solution is `20` with the optimal vector `(0, 0, 1, 0, 1)`"
   ]
  },
  {
   "cell_type": "code",
   "execution_count": 4,
   "metadata": {},
   "outputs": [
    {
     "name": "stdout",
     "output_type": "stream",
     "text": [
      "[[0, 0, 0, 0, 0, 0, 0, 0, 0, 0, 0, 0],\n",
      " [0, 0, 0, 0, 0, 4, 4, 4, 4, 4, 4, 4],\n",
      " [0, 0, 0, 0, 0, 4, 9, 9, 9, 9, 9, 13],\n",
      " [0, 0, 0, 0, 7, 7, 9, 9, 9, 11, 16, 16],\n",
      " [0, 0, 0, 6, 7, 7, 9, 13, 13, 15, 16, 16],\n",
      " [0, 0, 0, 6, 7, 7, 9, 13, 13, 15, 19, 20]]\n"
     ]
    }
   ],
   "source": [
    "# verification for 3.1\n",
    "\n",
    "import pprint\n",
    "n = 5 \n",
    "W = 11 \n",
    "\n",
    "vs = [4, 9, 7, 6, 13]\n",
    "ws = [5, 6, 4, 3, 7]\n",
    "\n",
    "V = [[0 for i in range(W + 1)] for j in range(n + 1)]\n",
    "\n",
    "for i in range(1, n + 1):\n",
    "    v_i = vs[i - 1]\n",
    "    w_i = ws[i - 1]\n",
    "    for w in range(1, W + 1):\n",
    "        if w < w_i:\n",
    "            V[i][w] = V[i - 1][w]\n",
    "        else:\n",
    "            V[i][w] = max(V[i - 1][w], v_i + V[i - 1][w - w_i])\n",
    "pprint.pprint(V)"
   ]
  },
  {
   "cell_type": "code",
   "execution_count": 5,
   "metadata": {},
   "outputs": [
    {
     "name": "stdout",
     "output_type": "stream",
     "text": [
      "Optimal Value for Knapsack without Replacement\n",
      "x1 = 0.0\n",
      "x2 = 0.0\n",
      "x3 = 1.0\n",
      "x4 = 0.0\n",
      "x5 = 1.0\n",
      "z = 20.0\n"
     ]
    }
   ],
   "source": [
    "# solution for 3.1\n",
    "\n",
    "prob = LpProblem(\"Knapsack without Replacement\",LpMaximize)\n",
    "x1=LpVariable(\"x1\", 0, 1, LpInteger)\n",
    "x2=LpVariable(\"x2\", 0, 1, LpInteger)\n",
    "x3=LpVariable(\"x3\", 0, 1, LpInteger)\n",
    "x4=LpVariable(\"x4\", 0, 1, LpInteger)\n",
    "x5=LpVariable(\"x5\", 0, 1, LpInteger)\n",
    "\n",
    "prob += 4*x1 + 9*x2 + 7*x3 + 6*x4 + 13*x5\n",
    "prob += 5*x1 + 6*x2 + 4*x3 + 3*x4 + 7*x5 <= 11 \n",
    "\n",
    "prob.solve()\n",
    "val = value(prob.objective)\n",
    "print(\"Optimal Value for Knapsack without Replacement\")\n",
    "for v in prob.variables():\n",
    "    print(\"{} = {}\".format(v.name, v.varValue))\n",
    "print(\"z = {}\".format(val))"
   ]
  },
  {
   "cell_type": "markdown",
   "metadata": {},
   "source": [
    "## 3.2\n",
    "```\n",
    "v w = 0  1  2  3  4  5  6  7  8  9 10 11 \n",
    "0     0  0  0  0  0  0  0  0  0  0  0  0\n",
    "1     0  0  0  0  0  4  4  4  4  4  8  8\n",
    "2     0  0  0  0  0  4  9  9  9  9  9 13\n",
    "3     0  0  0  0  7  7  9  9 14 14 16 16\n",
    "4     0  0  0  6  7  7 12 12 14 18 19 20\n",
    "5     0  0  0  6  7  7 12 13 14 18 19 20\n",
    "```\n",
    "\n",
    "The optimal solution is `20` with the optimal vector `(0, 0, 1, 0, 1)`"
   ]
  },
  {
   "cell_type": "code",
   "execution_count": 6,
   "metadata": {},
   "outputs": [
    {
     "name": "stdout",
     "output_type": "stream",
     "text": [
      "[[0, 0, 0, 0, 0, 0, 0, 0, 0, 0, 0, 0],\n",
      " [0, 0, 0, 0, 0, 4, 4, 4, 4, 4, 8, 8],\n",
      " [0, 0, 0, 0, 0, 4, 9, 9, 9, 9, 9, 13],\n",
      " [0, 0, 0, 0, 7, 7, 9, 9, 14, 14, 16, 16],\n",
      " [0, 0, 0, 6, 7, 7, 12, 13, 14, 18, 19, 20],\n",
      " [0, 0, 0, 6, 7, 7, 12, 13, 14, 18, 19, 20]]\n"
     ]
    }
   ],
   "source": [
    "# verification for 3.2\n",
    "\n",
    "n = 5 \n",
    "W = 11 \n",
    "\n",
    "vs = [4, 9, 7, 6, 13]\n",
    "ws = [5, 6, 4, 3, 7]\n",
    "\n",
    "V = [[0 for i in range(W + 1)] for j in range(n + 1)]\n",
    "\n",
    "for i in range(1, n + 1):\n",
    "    v_i = vs[i - 1]\n",
    "    w_i = ws[i - 1]\n",
    "    for w in range(1, W + 1):\n",
    "        k = 1 \n",
    "        while True:\n",
    "            if k*w_i > w:\n",
    "                V[i][w] = max(V[i][w], V[i-1][w])\n",
    "                break\n",
    "            else: \n",
    "                V[i][w] = max(V[i][w], k*v_i + V[i-1][w - k*w_i])\n",
    "            k += 1\n",
    "pprint.pprint(V)"
   ]
  },
  {
   "cell_type": "code",
   "execution_count": 7,
   "metadata": {},
   "outputs": [
    {
     "name": "stdout",
     "output_type": "stream",
     "text": [
      "Optimal Value for Knapsack with Replacement\n",
      "x1 = 0.0\n",
      "x2 = 0.0\n",
      "x3 = 1.0\n",
      "x4 = 0.0\n",
      "x5 = 1.0\n",
      "z = 20.0\n"
     ]
    }
   ],
   "source": [
    "# solution for 3.2\n",
    "\n",
    "prob = LpProblem(\"Knapsack with Replacement\",LpMaximize)\n",
    "x1=LpVariable(\"x1\", 0, None, LpInteger)\n",
    "x2=LpVariable(\"x2\", 0, None, LpInteger)\n",
    "x3=LpVariable(\"x3\", 0, None, LpInteger)\n",
    "x4=LpVariable(\"x4\", 0, None, LpInteger)\n",
    "x5=LpVariable(\"x5\", 0, None, LpInteger)\n",
    "\n",
    "prob += 4*x1 + 9*x2 + 7*x3 + 4*x4 + 13*x5\n",
    "prob += 5*x1 + 6*x2 + 4*x3 + 3*x4 + 7*x5 <= 11 \n",
    "\n",
    "prob.solve()\n",
    "val = value(prob.objective)\n",
    "print(\"Optimal Value for Knapsack with Replacement\")\n",
    "for v in prob.variables():\n",
    "    print(\"{} = {}\".format(v.name, v.varValue))\n",
    "print(\"z = {}\".format(val))"
   ]
  },
  {
   "cell_type": "code",
   "execution_count": null,
   "metadata": {},
   "outputs": [],
   "source": []
  }
 ],
 "metadata": {
  "kernelspec": {
   "display_name": "Python 3",
   "language": "python",
   "name": "python3"
  },
  "language_info": {
   "codemirror_mode": {
    "name": "ipython",
    "version": 3
   },
   "file_extension": ".py",
   "mimetype": "text/x-python",
   "name": "python",
   "nbconvert_exporter": "python",
   "pygments_lexer": "ipython3",
   "version": "3.6.6"
  }
 },
 "nbformat": 4,
 "nbformat_minor": 2
}
